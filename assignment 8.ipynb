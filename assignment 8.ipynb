{
 "cells": [
  {
   "cell_type": "markdown",
   "id": "e55219ae",
   "metadata": {},
   "source": [
    "# Assignment 8"
   ]
  },
  {
   "cell_type": "raw",
   "id": "2121db28",
   "metadata": {},
   "source": [
    "Q1. Is the Python Standard Library included with PyInputPlus?\n",
    "Ans1. No. PyInputPlus is a third-party module and doesn’t come with the Python Standard Library. "
   ]
  },
  {
   "cell_type": "raw",
   "id": "85c07c8d",
   "metadata": {},
   "source": [
    "Q2. Why is PyInputPlus commonly imported with import pyinputplus as pypi?\n",
    "\n",
    "Ans2. This optionally makes your code shorter to type: you can type pyip .inputStr() instead of pyinputplus.inputStr()."
   ]
  },
  {
   "cell_type": "raw",
   "id": "cb441dad",
   "metadata": {},
   "source": [
    "Q3. How do you distinguish between inputInt() and inputFloat()?\n",
    "\n",
    "Ans3. The inputInt() function returns an int value, while the inputFloat() function returns a float value. This is the difference between returning 4 and 4.0. "
   ]
  },
  {
   "cell_type": "raw",
   "id": "a2ae78eb",
   "metadata": {},
   "source": [
    "Q4. Using PyInputPlus, how do you ensure that the user enters a whole number between 0 and 99?\n",
    "\n",
    "Ans4. Call pyip.inputint(min=0, max=99)."
   ]
  },
  {
   "cell_type": "raw",
   "id": "ed8120d5",
   "metadata": {},
   "source": [
    "Q5. What is transferred to the keyword arguments allowRegexes and blockRegexes?\n",
    "\n",
    "Ans5. A list of regex strings that are either explicitly allowed or denied"
   ]
  },
  {
   "cell_type": "raw",
   "id": "fced14e6",
   "metadata": {},
   "source": [
    "Q6. If a blank input is entered three times, what does inputStr(limit=3) do?\n",
    "\n",
    "Ans6. The function will raise RetryLimitException."
   ]
  },
  {
   "cell_type": "raw",
   "id": "ed7b54f9",
   "metadata": {},
   "source": [
    "Q7. If blank input is entered three times, what does inputStr(limit=3, default=&#39;hello&#39;) do?\n",
    "\n",
    "Ans7. The function returns the value 'hello'.\n"
   ]
  }
 ],
 "metadata": {
  "kernelspec": {
   "display_name": "Python 3 (ipykernel)",
   "language": "python",
   "name": "python3"
  },
  "language_info": {
   "codemirror_mode": {
    "name": "ipython",
    "version": 3
   },
   "file_extension": ".py",
   "mimetype": "text/x-python",
   "name": "python",
   "nbconvert_exporter": "python",
   "pygments_lexer": "ipython3",
   "version": "3.9.7"
  }
 },
 "nbformat": 4,
 "nbformat_minor": 5
}
