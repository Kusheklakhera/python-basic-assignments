{
 "cells": [
  {
   "cell_type": "markdown",
   "id": "35f8cbc5",
   "metadata": {},
   "source": [
    "# Assignment 9"
   ]
  },
  {
   "cell_type": "raw",
   "id": "52a6accc",
   "metadata": {},
   "source": [
    "Q1. To what does a relative path refer?\n",
    "\n",
    "Ans1. 1. Relative paths are relative to the current working directory."
   ]
  },
  {
   "cell_type": "raw",
   "id": "c489456d",
   "metadata": {},
   "source": [
    "Q2. What does an absolute path start with your operating system?\n",
    "\n",
    "Ans2. Absolute paths start with the root folder, such as / or C:\\.\n"
   ]
  },
  {
   "cell_type": "raw",
   "id": "04526ca9",
   "metadata": {},
   "source": [
    "Q3. What do the functions os.getcwd() and os.chdir() do?\n",
    "\n",
    "Ans3. The os.getcwd() function returns the current working directory. The os.chdir() function changes the current working directory."
   ]
  },
  {
   "cell_type": "raw",
   "id": "b990025c",
   "metadata": {},
   "source": [
    "Q4. What are the . and .. folders?\n",
    "\n",
    "Ans4. The . folder is the current folder, and .. is the parent folder. "
   ]
  },
  {
   "cell_type": "raw",
   "id": "d1969337",
   "metadata": {},
   "source": [
    "Q5. In C:\\bacon\\eggs\\spam.txt, which part is the dir name, and which part is the base name?\n",
    "\n",
    "Ans5. C:\\bacon\\eggs is the dir name, while spam.txt is the base name. "
   ]
  },
  {
   "cell_type": "raw",
   "id": "f37859ff",
   "metadata": {},
   "source": [
    "Q6. What are the three “mode” arguments that can be passed to the open() function?\n",
    "\n",
    "Ans6. The string 'r' for read mode, 'w' for write mode, and 'a' for append mode"
   ]
  },
  {
   "cell_type": "raw",
   "id": "e7f553f5",
   "metadata": {},
   "source": [
    "Q7. What happens if an existing file is opened in write mode?\n",
    "\n",
    "Ans7. An existing file opened in write mode is erased and completely overwritten."
   ]
  },
  {
   "cell_type": "raw",
   "id": "246946e4",
   "metadata": {},
   "source": [
    "Q8. How do you tell the difference between read() and readlines()?\n",
    "\n",
    "Ans8. The read() method returns the file’s entire contents as a single string value. The readlines() method returns a list of strings, where each string is a line from the file’s contents."
   ]
  },
  {
   "cell_type": "raw",
   "id": "d755be95",
   "metadata": {},
   "source": [
    "9. What data structure does a shelf value resemble?\n",
    "Ans9. A shelf value resembles a dictionary value; it has keys and values, along with keys() and values() methods that work similarly to the dictionary methods of the same names.\n"
   ]
  }
 ],
 "metadata": {
  "kernelspec": {
   "display_name": "Python 3 (ipykernel)",
   "language": "python",
   "name": "python3"
  },
  "language_info": {
   "codemirror_mode": {
    "name": "ipython",
    "version": 3
   },
   "file_extension": ".py",
   "mimetype": "text/x-python",
   "name": "python",
   "nbconvert_exporter": "python",
   "pygments_lexer": "ipython3",
   "version": "3.9.7"
  }
 },
 "nbformat": 4,
 "nbformat_minor": 5
}
