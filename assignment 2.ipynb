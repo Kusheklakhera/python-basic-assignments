{
 "cells": [
  {
   "cell_type": "markdown",
   "id": "8964443a",
   "metadata": {},
   "source": [
    "# ASSIGNMENT 2"
   ]
  },
  {
   "cell_type": "raw",
   "id": "63d900b6",
   "metadata": {},
   "source": [
    "Question 1. What are the two values of the Boolean data type? How do you write them?\n",
    "\n",
    "Answer 1. True and False, using capital T and F, with the rest of the word in lowercase."
   ]
  },
  {
   "cell_type": "raw",
   "id": "74257ad3",
   "metadata": {},
   "source": [
    "Question 2. What are the three Boolean operators?\n",
    "\n",
    "Answer2. and, or, and not"
   ]
  },
  {
   "cell_type": "raw",
   "id": "88e1982a",
   "metadata": {},
   "source": [
    "Question 3. Make a list of each Boolean operator's truth tables (i.e. every possible combination of Boolean\n",
    "values for the operator and what it evaluate ).\n",
    "\n",
    "Answer 3.\n",
    "and\n",
    "True and True = True\n",
    "True and False = False\n",
    "False and True = False\n",
    "False and False = False\n",
    "\n",
    "or\n",
    "True or True = True\n",
    "True or False = True\n",
    "False or True = True\n",
    "False or False = False\n",
    "\n",
    "not\n",
    "not True = False\n",
    "not False = True\n"
   ]
  },
  {
   "cell_type": "raw",
   "id": "aab7c1f3",
   "metadata": {},
   "source": [
    "Question 4. What do the following expressions evaluate to?\n",
    "\n",
    "(5 > 4) and (3 == 5)\n",
    "not (5 > 4)\n",
    "(5 > 4) or (3 == 5)\n",
    "not ((5 > 4) or (3 == 5))\n",
    "(True and True) and (True == False)\n",
    "(not False) or (not True)"
   ]
  },
  {
   "cell_type": "code",
   "execution_count": 1,
   "id": "fe60825a",
   "metadata": {},
   "outputs": [
    {
     "data": {
      "text/plain": [
       "False"
      ]
     },
     "execution_count": 1,
     "metadata": {},
     "output_type": "execute_result"
    }
   ],
   "source": [
    "(5 > 4) and (3 == 5)"
   ]
  },
  {
   "cell_type": "code",
   "execution_count": 2,
   "id": "ad9920cc",
   "metadata": {},
   "outputs": [
    {
     "data": {
      "text/plain": [
       "False"
      ]
     },
     "execution_count": 2,
     "metadata": {},
     "output_type": "execute_result"
    }
   ],
   "source": [
    "not (5 > 4)"
   ]
  },
  {
   "cell_type": "code",
   "execution_count": 3,
   "id": "6d18826a",
   "metadata": {},
   "outputs": [
    {
     "data": {
      "text/plain": [
       "True"
      ]
     },
     "execution_count": 3,
     "metadata": {},
     "output_type": "execute_result"
    }
   ],
   "source": [
    "(5 > 4) or (3 == 5)"
   ]
  },
  {
   "cell_type": "code",
   "execution_count": 4,
   "id": "ffe600c5",
   "metadata": {},
   "outputs": [
    {
     "data": {
      "text/plain": [
       "False"
      ]
     },
     "execution_count": 4,
     "metadata": {},
     "output_type": "execute_result"
    }
   ],
   "source": [
    "not ((5 > 4) or (3 == 5))"
   ]
  },
  {
   "cell_type": "code",
   "execution_count": 5,
   "id": "1a3ee41c",
   "metadata": {},
   "outputs": [
    {
     "data": {
      "text/plain": [
       "False"
      ]
     },
     "execution_count": 5,
     "metadata": {},
     "output_type": "execute_result"
    }
   ],
   "source": [
    "(True and True) and (True == False)"
   ]
  },
  {
   "cell_type": "code",
   "execution_count": 6,
   "id": "772edf13",
   "metadata": {},
   "outputs": [
    {
     "data": {
      "text/plain": [
       "True"
      ]
     },
     "execution_count": 6,
     "metadata": {},
     "output_type": "execute_result"
    }
   ],
   "source": [
    "(not False) or (not True)"
   ]
  },
  {
   "cell_type": "raw",
   "id": "e3061b49",
   "metadata": {},
   "source": [
    "Question 5. What are the six comparison operators?\n",
    "\n",
    "Answer 5. ==, !=, <, >, <=, and >=.\n"
   ]
  },
  {
   "cell_type": "raw",
   "id": "98281f37",
   "metadata": {},
   "source": [
    "Question 6. How do you tell the difference between the equal to and assignment operators?Describe a\n",
    "condition and when you would use one.\n",
    "\n",
    "Answer 6. == is the equal to operator that compares two values and evaluates to a Boolean, while = is the assignment operator that stores a value in a variable."
   ]
  },
  {
   "cell_type": "raw",
   "id": "8578b25e",
   "metadata": {},
   "source": [
    "Question 7. Identify the three blocks in this code:\n",
    "\n",
    "spam = 0\n",
    "if spam == 10:\n",
    "print('eggs')\n",
    "if spam > 5:\n",
    "print('bacon')\n",
    "else:\n",
    "print('ham')\n",
    "print('spam')\n",
    "print('spam')\n",
    "\n",
    "Answer 7.The three blocks are everything inside the if statement and the lines print('bacon') and print('ham').\n",
    "\n",
    "print('eggs')\n",
    "if spam > 5:\n",
    "print('bacon')\n",
    "else:\n",
    "print('ham')\n",
    "print('spam')"
   ]
  },
  {
   "cell_type": "raw",
   "id": "040d2bdb",
   "metadata": {},
   "source": [
    "Question 8. Write code that prints Hello if 1 is stored in spam, prints Howdy if 2 is stored in spam, and prints Greetings! if anything else is stored in spam.\n",
    "\n",
    "Answer 8. \n",
    "if spam == 1:\n",
    "print('Hello')\n",
    "elif spam == 2:\n",
    "print('Howdy')\n",
    "else:\n",
    "print('Greetings!')"
   ]
  },
  {
   "cell_type": "code",
   "execution_count": null,
   "id": "a84d7742",
   "metadata": {},
   "outputs": [
    {
     "name": "stdout",
     "output_type": "stream",
     "text": [
      "Input value of spam\n"
     ]
    }
   ],
   "source": [
    "print(\"Input value of spam\")\n",
    "spam = int(input())\n",
    "\n",
    "if spam == 1:\n",
    "    print('Hello')\n",
    "elif spam == 2:\n",
    "    print('Howdy')\n",
    "else:\n",
    "    print('Greetings!')"
   ]
  },
  {
   "cell_type": "raw",
   "id": "7bed01fc",
   "metadata": {},
   "source": [
    "Question 9.If your programme is stuck in an endless loop, what keys you’ll press?\n",
    "\n",
    "Answer 9. Press CTRL-C to stop a program stuck in an infinite loop."
   ]
  },
  {
   "cell_type": "raw",
   "id": "cd3a1621",
   "metadata": {},
   "source": [
    "Question 10. How can you tell the difference between break and continue?\n",
    "\n",
    "Answer 10. The break statement will move the execution outside and just after a loop. The continue statement will move the execution to the start of the loop."
   ]
  },
  {
   "cell_type": "raw",
   "id": "aa0e5446",
   "metadata": {},
   "source": [
    "Question 11. In a for loop, what is the difference between range(10), range(0, 10), and range(0, 10, 1)?\n",
    "\n",
    "Answer 11. They all do the same thing. The range(10) call ranges from 0 up to (but not including) 10, range(0,10) explicitly tells the loop to start at 0 , and range (0,10,1) explicitly tells the loop to increase the variable by 1 on each iteration."
   ]
  },
  {
   "cell_type": "code",
   "execution_count": 35,
   "id": "823358dd",
   "metadata": {},
   "outputs": [
    {
     "name": "stdout",
     "output_type": "stream",
     "text": [
      "0\n",
      "1\n",
      "2\n",
      "3\n",
      "4\n",
      "5\n",
      "6\n",
      "7\n",
      "8\n",
      "9\n"
     ]
    }
   ],
   "source": [
    "for seq in range(10):\n",
    "    print(seq)"
   ]
  },
  {
   "cell_type": "code",
   "execution_count": 26,
   "id": "37018a64",
   "metadata": {},
   "outputs": [
    {
     "name": "stdout",
     "output_type": "stream",
     "text": [
      "0\n",
      "1\n",
      "2\n",
      "3\n",
      "4\n",
      "5\n",
      "6\n",
      "7\n",
      "8\n",
      "9\n"
     ]
    }
   ],
   "source": [
    "for seq in range(0,10):\n",
    "    print(seq)"
   ]
  },
  {
   "cell_type": "code",
   "execution_count": 27,
   "id": "3188b12a",
   "metadata": {},
   "outputs": [
    {
     "name": "stdout",
     "output_type": "stream",
     "text": [
      "0\n",
      "1\n",
      "2\n",
      "3\n",
      "4\n",
      "5\n",
      "6\n",
      "7\n",
      "8\n",
      "9\n"
     ]
    }
   ],
   "source": [
    "for seq in range(0,10,1):\n",
    "    print(seq)"
   ]
  },
  {
   "cell_type": "raw",
   "id": "f0b4074b",
   "metadata": {},
   "source": [
    "Question 12. Write a short program that prints the numbers 1 to 10 using a for loop. Then write an equivalent\n",
    "program that prints the numbers 1 to 10 using a while loop."
   ]
  },
  {
   "cell_type": "code",
   "execution_count": 33,
   "id": "bbef397f",
   "metadata": {},
   "outputs": [
    {
     "name": "stdout",
     "output_type": "stream",
     "text": [
      "1\n",
      "2\n",
      "3\n",
      "4\n",
      "5\n",
      "6\n",
      "7\n",
      "8\n",
      "9\n",
      "10\n"
     ]
    }
   ],
   "source": [
    "#1 to 10 values using while loop\n",
    "\n",
    "i = 1\n",
    "while(i<=10):\n",
    "    print(i)\n",
    "    i += 1"
   ]
  },
  {
   "cell_type": "code",
   "execution_count": 34,
   "id": "a493dbe7",
   "metadata": {},
   "outputs": [
    {
     "name": "stdout",
     "output_type": "stream",
     "text": [
      "1\n",
      "2\n",
      "3\n",
      "4\n",
      "5\n",
      "6\n",
      "7\n",
      "8\n",
      "9\n",
      "10\n"
     ]
    }
   ],
   "source": [
    "#1 to 10 values using for loop\n",
    "\n",
    "for i in range(1, 11):\n",
    "    print(i)"
   ]
  },
  {
   "cell_type": "raw",
   "id": "34239e9b",
   "metadata": {},
   "source": [
    "Question 13. If you had a function named bacon() inside a module named spam, how would you call it after\n",
    "importing spam?\n",
    "\n",
    "Answer 13. This function can be called with spam.bacon().\n",
    "\n"
   ]
  }
 ],
 "metadata": {
  "kernelspec": {
   "display_name": "Python 3 (ipykernel)",
   "language": "python",
   "name": "python3"
  },
  "language_info": {
   "codemirror_mode": {
    "name": "ipython",
    "version": 3
   },
   "file_extension": ".py",
   "mimetype": "text/x-python",
   "name": "python",
   "nbconvert_exporter": "python",
   "pygments_lexer": "ipython3",
   "version": "3.9.7"
  }
 },
 "nbformat": 4,
 "nbformat_minor": 5
}
