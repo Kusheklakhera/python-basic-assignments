{
 "cells": [
  {
   "cell_type": "markdown",
   "id": "40979221",
   "metadata": {},
   "source": [
    "# Assignment 10"
   ]
  },
  {
   "cell_type": "raw",
   "id": "4804655f",
   "metadata": {},
   "source": [
    "1. How do you distinguish between shutil.copy() and shutil.copytree()?\n",
    "\n",
    "1. The shutil.copy() function will copy a single file, while shutil.copytree() will copy an entire folder, along with all its contents."
   ]
  },
  {
   "cell_type": "raw",
   "id": "f8cae7d7",
   "metadata": {},
   "source": [
    "2. What function is used to rename files??\n",
    "\n",
    "2. The shutil.move() function is used for renaming files as well as moving them."
   ]
  },
  {
   "cell_type": "raw",
   "id": "f3bc5923",
   "metadata": {},
   "source": [
    "3. What is the difference between the delete functions in the send2trash and shutil modules?\n",
    "\n",
    "3. The send2trash functions will move a file or folder to the recycle bin, while shutil functions will permanently delete files and folders."
   ]
  },
  {
   "cell_type": "raw",
   "id": "4c10a316",
   "metadata": {},
   "source": [
    "4.ZipFile objects have a close() method just like File objects’ close() method. What ZipFile method is\n",
    "equivalent to File objects’ open() method?\n",
    "\n",
    "4. The zipfile.ZipFile() function is equivalent to the open() function; the first argument is the filename, and the second argument is the mode to open the ZIP file in (read, write, or append).\n"
   ]
  },
  {
   "cell_type": "code",
   "execution_count": 6,
   "id": "eb820c45",
   "metadata": {},
   "outputs": [
    {
     "name": "stdout",
     "output_type": "stream",
     "text": [
      "Looking in C:\\Users\\Kush\\randomFolder for files with extensions of .php, .py\n"
     ]
    }
   ],
   "source": [
    "'''Create a programme that searches a folder tree for files with a certain file extension (such as .pdf\n",
    "or .jpg). Copy these files from whatever location they are in to a new folder.'''\n",
    "\n",
    "import os, shutil\n",
    "\n",
    "def selectiveCopy(folder, extensions, destFolder):\n",
    "\n",
    "    folder = os.path.abspath(folder)\n",
    "\n",
    "    destFolder = os.path.abspath(destFolder)\n",
    "\n",
    "    print('Looking in', folder, 'for files with extensions of', ', '.join(extensions))\n",
    "\n",
    "    for foldername, subfolders, filenames in os.walk(folder):\n",
    "\n",
    "        for filename in filenames:\n",
    "\n",
    "            name, extension = os.path.splitext(filename)\n",
    "\n",
    "            if extension in extensions:\n",
    "\n",
    "                fileAbsPath = foldername + os.path.sep + filename\n",
    "\n",
    "                print('Coping', fileAbsPath, 'to', destFolder)\n",
    "\n",
    "                shutil.copy(fileAbsPath, destFolder)\n",
    "\n",
    "extensions = ['.php', '.py']\n",
    "\n",
    "folder = 'randomFolder'\n",
    "\n",
    "destFolder = 'selectiveFolder'\n",
    "\n",
    "selectiveCopy(folder, extensions, destFolder)\n",
    "\n"
   ]
  }
 ],
 "metadata": {
  "kernelspec": {
   "display_name": "Python 3 (ipykernel)",
   "language": "python",
   "name": "python3"
  },
  "language_info": {
   "codemirror_mode": {
    "name": "ipython",
    "version": 3
   },
   "file_extension": ".py",
   "mimetype": "text/x-python",
   "name": "python",
   "nbconvert_exporter": "python",
   "pygments_lexer": "ipython3",
   "version": "3.9.7"
  }
 },
 "nbformat": 4,
 "nbformat_minor": 5
}
