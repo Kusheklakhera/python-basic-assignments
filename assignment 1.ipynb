{
 "cells": [
  {
   "cell_type": "markdown",
   "id": "a76286cb",
   "metadata": {},
   "source": [
    "# ASSIGNMENT 1"
   ]
  },
  {
   "cell_type": "raw",
   "id": "59fcc426",
   "metadata": {},
   "source": [
    "Question 1. Which of the following are operators, and which are values?\n",
    "*\n",
    "'hello'\n",
    "-88.8\n",
    "-\n",
    "/\n",
    "+\n",
    "5\n",
    "\n",
    "\n",
    "Answer1.'' Operators: +, -, *, /\n",
    "Values: 'hello', -88.5, 5''"
   ]
  },
  {
   "cell_type": "raw",
   "id": "5d1cccee",
   "metadata": {},
   "source": [
    "Question 2. What is the difference between string and variable? \n",
    "\n",
    "Answer 2. Variable: virus\n",
    "        String: 'virus'\n",
    "\n",
    "Strings always start and end with quotes"
   ]
  },
  {
   "cell_type": "raw",
   "id": "09cdac62",
   "metadata": {},
   "source": [
    "Question 3. Describe three different data types.\n",
    "\n",
    "Answer 3. Integers, floating-point numbers, and strings."
   ]
  },
  {
   "cell_type": "raw",
   "id": "b14e65f4",
   "metadata": {},
   "source": [
    "Question 4. What is an expression made up of? What do all expressions do?\n",
    "\n",
    "Answer 4. An expression is a combination of values and operators. All expressions evaluate (that is, reduce) to a single value."
   ]
  },
  {
   "cell_type": "raw",
   "id": "d7c7e86c",
   "metadata": {},
   "source": [
    "Question 5. 5. This assignment statements, like spam = 10. What is the difference between an\n",
    "expression and a statement?\n",
    "\n",
    "Answer 5. An expression evaluates to a single value. A statement does not."
   ]
  },
  {
   "cell_type": "raw",
   "id": "fbf1f897",
   "metadata": {},
   "source": [
    "Question 6. After running the following code, what does the variable bacon contain?\n",
    "\n",
    "bacon = 22\n",
    "bacon + 1\n",
    "\n",
    "Answer 6. The bacon variable is set to 22. The bacon + 1 expression does not reassign the value in bacon (that would need an assignment statement: bacon = bacon + 1)"
   ]
  },
  {
   "cell_type": "raw",
   "id": "9bbaafdb",
   "metadata": {},
   "source": [
    "Question 7. What should the values of the following two terms be?\n",
    "\n",
    "'spam' + 'spamspam'\n",
    "'spam' * 3"
   ]
  },
  {
   "cell_type": "code",
   "execution_count": 9,
   "id": "81a4c7d1",
   "metadata": {},
   "outputs": [
    {
     "data": {
      "text/plain": [
       "'spamspamspam'"
      ]
     },
     "execution_count": 9,
     "metadata": {},
     "output_type": "execute_result"
    }
   ],
   "source": [
    "'spam' + 'spamspam'\n",
    "'spam' * 3"
   ]
  },
  {
   "cell_type": "raw",
   "id": "3032b3eb",
   "metadata": {},
   "source": [
    "Question 8. Why is eggs a valid variable name while 100 is invalid?\n",
    "\n",
    "Answer 8. Variable names cannot begin with a number."
   ]
  },
  {
   "cell_type": "raw",
   "id": "366be624",
   "metadata": {},
   "source": [
    "Question 9. What three functions can be used to get the integer, floating-point number, or string\n",
    "version of a value?\n",
    "\n",
    "Answer 9. The int(), float(), and str() functions will evaluate to the integer, floating-point number, and string versions of the value passed to them."
   ]
  },
  {
   "cell_type": "raw",
   "id": "19e14c31",
   "metadata": {},
   "source": [
    "Question 10. Why does this expression cause an error? How can you fix it?\n",
    "'I have eaten ' + 99 + ' burritos.'\n",
    "\n",
    "Answer 10. The expression causes an error because 99 is an integer, and only strings can be concatenated to other strings with the + operator. The correct way is I have eaten ' + str(99) + ' burritos.'."
   ]
  },
  {
   "cell_type": "code",
   "execution_count": 8,
   "id": "09c7c7f7",
   "metadata": {},
   "outputs": [
    {
     "data": {
      "text/plain": [
       "'I have eaten 99 burritos.'"
      ]
     },
     "execution_count": 8,
     "metadata": {},
     "output_type": "execute_result"
    }
   ],
   "source": [
    "'I have eaten ' + str(99) + ' burritos.'"
   ]
  }
 ],
 "metadata": {
  "kernelspec": {
   "display_name": "Python 3 (ipykernel)",
   "language": "python",
   "name": "python3"
  },
  "language_info": {
   "codemirror_mode": {
    "name": "ipython",
    "version": 3
   },
   "file_extension": ".py",
   "mimetype": "text/x-python",
   "name": "python",
   "nbconvert_exporter": "python",
   "pygments_lexer": "ipython3",
   "version": "3.9.7"
  }
 },
 "nbformat": 4,
 "nbformat_minor": 5
}
