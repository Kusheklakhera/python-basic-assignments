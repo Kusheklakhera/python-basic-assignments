{
 "cells": [
  {
   "cell_type": "markdown",
   "id": "cfd36c38",
   "metadata": {},
   "source": [
    "# Assignemt 16"
   ]
  },
  {
   "cell_type": "raw",
   "id": "e3a736bc",
   "metadata": {},
   "source": [
    "Q1. Create a list called years_list, starting with the year of your birth, and each year thereafter until\n",
    "the year of your fifth birthday. For example, if you were born in 1980. the list would be years_list =\n",
    "[1980, 1981, 1982, 1983, 1984, 1985]."
   ]
  },
  {
   "cell_type": "code",
   "execution_count": 40,
   "id": "0e5e99ed",
   "metadata": {},
   "outputs": [
    {
     "data": {
      "text/plain": [
       "[1996, 1997, 1998, 1999, 2000, 2001]"
      ]
     },
     "execution_count": 40,
     "metadata": {},
     "output_type": "execute_result"
    }
   ],
   "source": [
    "years_list = [1996,1997,1998,1999,2000,2001]\n",
    "years_list"
   ]
  },
  {
   "cell_type": "raw",
   "id": "84dda97e",
   "metadata": {},
   "source": [
    "Q2. In which year in years_list was your third birthday? Remember, you were 0 years of age for your\n",
    "first year."
   ]
  },
  {
   "cell_type": "code",
   "execution_count": 23,
   "id": "a8891f58",
   "metadata": {},
   "outputs": [
    {
     "data": {
      "text/plain": [
       "1998"
      ]
     },
     "execution_count": 23,
     "metadata": {},
     "output_type": "execute_result"
    }
   ],
   "source": [
    "#third birthday\n",
    "years_list[2]"
   ]
  },
  {
   "cell_type": "code",
   "execution_count": 24,
   "id": "86c35216",
   "metadata": {},
   "outputs": [
    {
     "data": {
      "text/plain": [
       "1998"
      ]
     },
     "execution_count": 24,
     "metadata": {},
     "output_type": "execute_result"
    }
   ],
   "source": [
    "#third birthday\n",
    "years_list[-4]"
   ]
  },
  {
   "cell_type": "raw",
   "id": "b70b5fea",
   "metadata": {},
   "source": [
    "Q3.In the years list, which year were you the oldest?"
   ]
  },
  {
   "cell_type": "code",
   "execution_count": 21,
   "id": "40f43f5b",
   "metadata": {},
   "outputs": [
    {
     "data": {
      "text/plain": [
       "2001"
      ]
     },
     "execution_count": 21,
     "metadata": {},
     "output_type": "execute_result"
    }
   ],
   "source": [
    "#oldest\n",
    "years_list[5]"
   ]
  },
  {
   "cell_type": "code",
   "execution_count": 22,
   "id": "1382f91f",
   "metadata": {},
   "outputs": [
    {
     "data": {
      "text/plain": [
       "2001"
      ]
     },
     "execution_count": 22,
     "metadata": {},
     "output_type": "execute_result"
    }
   ],
   "source": [
    "#oldest\n",
    "years_list[-1]"
   ]
  },
  {
   "cell_type": "raw",
   "id": "f2560a2a",
   "metadata": {},
   "source": [
    "Q4. Make a list called things with these three strings as elements: \"\"mozzarella\", \"cinderella\"\n",
    "\"salmonella\"."
   ]
  },
  {
   "cell_type": "code",
   "execution_count": 39,
   "id": "86bc4f45",
   "metadata": {},
   "outputs": [
    {
     "data": {
      "text/plain": [
       "['mozzarella', 'cinderella', 'salmonella']"
      ]
     },
     "execution_count": 39,
     "metadata": {},
     "output_type": "execute_result"
    }
   ],
   "source": [
    "things=[\"mozzarella\", \"cinderella\", \"salmonella\"]\n",
    "things"
   ]
  },
  {
   "cell_type": "raw",
   "id": "e705e64e",
   "metadata": {},
   "source": [
    "Q5.Capitalize the element in things that refers to a person and then print the list. Did it change the\n",
    "element in the list?"
   ]
  },
  {
   "cell_type": "code",
   "execution_count": 187,
   "id": "376f09e3",
   "metadata": {},
   "outputs": [
    {
     "data": {
      "text/plain": [
       "['mozzarella', 'Cinderella', 'salmonella']"
      ]
     },
     "execution_count": 187,
     "metadata": {},
     "output_type": "execute_result"
    }
   ],
   "source": [
    "things[1]=things[1].capitalize()\n",
    "things "
   ]
  },
  {
   "cell_type": "raw",
   "id": "32c3d63b",
   "metadata": {},
   "source": [
    "Yes the element got capitalized"
   ]
  },
  {
   "cell_type": "raw",
   "id": "dfc1da82",
   "metadata": {},
   "source": [
    "Q6. Make a surprise list with the elements \"Groucho\", \"Chicho\",\"Harpo\""
   ]
  },
  {
   "cell_type": "code",
   "execution_count": 175,
   "id": "c2a55720",
   "metadata": {},
   "outputs": [
    {
     "data": {
      "text/plain": [
       "['Groucho', 'Chicho', 'Harpo']"
      ]
     },
     "execution_count": 175,
     "metadata": {},
     "output_type": "execute_result"
    }
   ],
   "source": [
    "surprise=[\"Groucho\", \"Chicho\",\"Harpo\"]\n",
    "surprise"
   ]
  },
  {
   "cell_type": "raw",
   "id": "1e5aa177",
   "metadata": {},
   "source": [
    "Q7. Lowercase the last element of the surprise list, reverse it, and then capitalize it."
   ]
  },
  {
   "cell_type": "code",
   "execution_count": 184,
   "id": "c9599735",
   "metadata": {},
   "outputs": [
    {
     "data": {
      "text/plain": [
       "['Groucho', 'Chicho', 'Oprah']"
      ]
     },
     "execution_count": 184,
     "metadata": {},
     "output_type": "execute_result"
    }
   ],
   "source": [
    "surprise[2]=surprise[2].lower()\n",
    "surprise[2]=surprise[2][::-1]\n",
    "surprise[2]=surprise[2].capitalize()\n",
    "surprise[2]\n",
    "surprise"
   ]
  },
  {
   "cell_type": "raw",
   "id": "5229a81c",
   "metadata": {},
   "source": [
    "Q8.Make an English-to-French dictionary called e2f and print it. Here are your starter words: dog is\n",
    "chien, cat is chat, and walrus is morse."
   ]
  },
  {
   "cell_type": "code",
   "execution_count": 190,
   "id": "1090a292",
   "metadata": {},
   "outputs": [
    {
     "data": {
      "text/plain": [
       "{'dog': 'chien', 'cat': 'chat', 'walrus': 'morse'}"
      ]
     },
     "execution_count": 190,
     "metadata": {},
     "output_type": "execute_result"
    }
   ],
   "source": [
    "e2f={'dog':'chien', 'cat':'chat', 'walrus':'morse'}\n",
    "e2f"
   ]
  },
  {
   "cell_type": "raw",
   "id": "13669dcd",
   "metadata": {},
   "source": [
    "Q9. Write the French word for walrus in your three-word dictionary e2f."
   ]
  },
  {
   "cell_type": "code",
   "execution_count": 193,
   "id": "a8419618",
   "metadata": {},
   "outputs": [
    {
     "data": {
      "text/plain": [
       "'morse'"
      ]
     },
     "execution_count": 193,
     "metadata": {},
     "output_type": "execute_result"
    }
   ],
   "source": [
    "e2f['walrus']"
   ]
  },
  {
   "cell_type": "raw",
   "id": "dcc809da",
   "metadata": {},
   "source": [
    "Q10. Make a French-to-English dictionary called f2e from e2f. Use the items method."
   ]
  },
  {
   "cell_type": "code",
   "execution_count": 202,
   "id": "4d5e8924",
   "metadata": {},
   "outputs": [],
   "source": [
    "f2e={}\n",
    "for english, french in e2f.items():\n",
    "    f2e[french]=english"
   ]
  },
  {
   "cell_type": "code",
   "execution_count": 203,
   "id": "cbc1fe2e",
   "metadata": {},
   "outputs": [
    {
     "data": {
      "text/plain": [
       "{'chien': 'dog', 'chat': 'cat', 'morse': 'walrus'}"
      ]
     },
     "execution_count": 203,
     "metadata": {},
     "output_type": "execute_result"
    }
   ],
   "source": [
    "f2e"
   ]
  },
  {
   "cell_type": "raw",
   "id": "d482ed77",
   "metadata": {},
   "source": [
    "Q11. Print the English version of the French word chien using f2e."
   ]
  },
  {
   "cell_type": "code",
   "execution_count": 204,
   "id": "cba2b11f",
   "metadata": {},
   "outputs": [
    {
     "data": {
      "text/plain": [
       "'dog'"
      ]
     },
     "execution_count": 204,
     "metadata": {},
     "output_type": "execute_result"
    }
   ],
   "source": [
    "f2e['chien']"
   ]
  },
  {
   "cell_type": "raw",
   "id": "6bd7dd45",
   "metadata": {},
   "source": [
    "Q12. Make and print a set of English words from the keys in e2f."
   ]
  },
  {
   "cell_type": "code",
   "execution_count": 205,
   "id": "5825e2d4",
   "metadata": {},
   "outputs": [
    {
     "data": {
      "text/plain": [
       "{'cat', 'dog', 'walrus'}"
      ]
     },
     "execution_count": 205,
     "metadata": {},
     "output_type": "execute_result"
    }
   ],
   "source": [
    "set(e2f.keys())"
   ]
  },
  {
   "cell_type": "raw",
   "id": "7f9dd94b",
   "metadata": {},
   "source": [
    "Q13. Make a multilevel dictionary called life. Use these strings for the topmost keys:'animals', 'plants',\n",
    "and 'other'. Make the 'animals' key refer to another dictionary with the keys 'cats', 'octopi', and\n",
    "'emus'. Make the 'cats' key refer to a list of strings with the values 'Henri','Grump', and 'Lucy'.\n",
    "Make all the other keys refer to empty dictionaries."
   ]
  },
  {
   "cell_type": "code",
   "execution_count": 210,
   "id": "5cf8325b",
   "metadata": {},
   "outputs": [],
   "source": [
    " life = { \n",
    "    'animals': { \n",
    "        'cats': [ \n",
    "            'Henri', 'Grumpy', 'Lucy'            ], \n",
    "        'octopi': {},\n",
    "        'emus': {} \n",
    "    }, \n",
    "    'plants': {}, \n",
    "    'other': {}\n",
    "}"
   ]
  },
  {
   "cell_type": "raw",
   "id": "d315285d",
   "metadata": {},
   "source": [
    "Q14. Print the top-level keys of life."
   ]
  },
  {
   "cell_type": "code",
   "execution_count": 212,
   "id": "6fac77f1",
   "metadata": {},
   "outputs": [
    {
     "name": "stdout",
     "output_type": "stream",
     "text": [
      "['animals', 'plants', 'other']\n"
     ]
    }
   ],
   "source": [
    "print( list (life.keys() ) )"
   ]
  },
  {
   "cell_type": "raw",
   "id": "ecd2299b",
   "metadata": {},
   "source": [
    "Q15. Print the keys for life['animals']."
   ]
  },
  {
   "cell_type": "code",
   "execution_count": 214,
   "id": "eb9b5e9b",
   "metadata": {},
   "outputs": [
    {
     "name": "stdout",
     "output_type": "stream",
     "text": [
      "['cats', 'octopi', 'emus']\n"
     ]
    }
   ],
   "source": [
    "print(list(life['animals'].keys()))"
   ]
  },
  {
   "cell_type": "raw",
   "id": "c984a6e3",
   "metadata": {},
   "source": [
    "Q16. Print the values for life'['animals']['cats']"
   ]
  },
  {
   "cell_type": "code",
   "execution_count": 215,
   "id": "ca2c6f27",
   "metadata": {},
   "outputs": [
    {
     "name": "stdout",
     "output_type": "stream",
     "text": [
      "['Henri', 'Grumpy', 'Lucy']\n"
     ]
    }
   ],
   "source": [
    "print(life['animals']['cats'])"
   ]
  }
 ],
 "metadata": {
  "kernelspec": {
   "display_name": "Python 3 (ipykernel)",
   "language": "python",
   "name": "python3"
  },
  "language_info": {
   "codemirror_mode": {
    "name": "ipython",
    "version": 3
   },
   "file_extension": ".py",
   "mimetype": "text/x-python",
   "name": "python",
   "nbconvert_exporter": "python",
   "pygments_lexer": "ipython3",
   "version": "3.9.7"
  }
 },
 "nbformat": 4,
 "nbformat_minor": 5
}
